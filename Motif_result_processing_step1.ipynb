{
 "cells": [
  {
   "cell_type": "code",
   "execution_count": 41,
   "metadata": {},
   "outputs": [],
   "source": [
    "import nengo\n",
    "import multiprocessing\n",
    "import numpy as np\n",
    "from itertools import product\n",
    "import pandas as pd\n",
    "import matplotlib.pyplot as plt\n",
    "import pickle\n",
    "from hashids import Hashids\n",
    "import run_motif_search\n",
    "reload(run_motif_search)\n",
    "from run_motif_search import *\n",
    "import os\n",
    "import scipy\n",
    "from tqdm import tqdm"
   ]
  },
  {
   "cell_type": "code",
   "execution_count": 2,
   "metadata": {},
   "outputs": [],
   "source": [
    "def load_file(fn):\n",
    "    pass\n"
   ]
  },
  {
   "cell_type": "code",
   "execution_count": 3,
   "metadata": {},
   "outputs": [
    {
     "name": "stdout",
     "output_type": "stream",
     "text": [
      "(array([[0, 0, 0, 1],\n",
      "       [1, 0, 0, 0],\n",
      "       [0, 1, 0, 0],\n",
      "       [0, 0, 1, 0]]), array([[1, 0, 0, 0],\n",
      "       [0, 0, 0, 0],\n",
      "       [0, 0, 1, 0],\n",
      "       [0, 0, 0, 0]]))\n"
     ]
    },
    {
     "data": {
      "image/png": "[encoded data removed]",
      "text/plain": [
       "<Figure size 432x288 with 1 Axes>"
      ]
     },
     "metadata": {
      "needs_background": "light"
     },
     "output_type": "display_data"
    }
   ],
   "source": [
    "# Initial check\n",
    "path = './data_s0_f'\n",
    "# Generator over filenames so they're not loaded into memory\n",
    "_fr,_dirname,files = os.walk(path).next()\n",
    "files = ['oRcLcZcqfYfQcWcqcDcofqcXcOcncxfZcgfLc7cocrcpcVc8cRc1cWfjcQc7c6cE.pkl']\n",
    "for i,fn in enumerate(files):\n",
    "    with open(os.path.join(path,fn), 'rb') as fp:\n",
    "        ret = pickle.load(fp)\n",
    "    print(ret['_metadata'])\n",
    "    fig, ax = plt.subplots()\n",
    "    \n",
    "    tslc = slice(3000,4000)\n",
    "    ax.scatter(ret['time'][tslc], ret['motor_values'][tslc], s=0.2)\n",
    "    params, cov,err,yhat = fit_curve(ret, tslc)\n",
    "    ax.title.set_text(\"err : {}, params : {}\".format(np.round(err,4),np.round(params,2)))\n",
    "#     params[0] = 0.001\n",
    "    ax.plot(ret['time'][tslc], yhat, color='tab:orange')\n",
    "    ax.legend(['Data','Fit'])\n",
    "    ax.set_ylabel('Value')\n",
    "    ax.set_xlabel('Time')\n",
    "    \n",
    "    if i > 0:\n",
    "        break\n",
    "\n",
    "        \n",
    "#     with ) as fp:\n",
    "\n"
   ]
  },
  {
   "cell_type": "code",
   "execution_count": 4,
   "metadata": {},
   "outputs": [],
   "source": [
    "datafiles = os.listdir(path)"
   ]
  },
  {
   "cell_type": "code",
   "execution_count": 5,
   "metadata": {},
   "outputs": [],
   "source": [
    "df = pd.DataFrame(columns=['err','cov','a','b','c','e'])"
   ]
  },
  {
   "cell_type": "code",
   "execution_count": null,
   "metadata": {},
   "outputs": [],
   "source": []
  },
  {
   "cell_type": "code",
   "execution_count": 6,
   "metadata": {},
   "outputs": [
    {
     "name": "stderr",
     "output_type": "stream",
     "text": [
      "  0%|          | 198/107848 [00:08<32:00, 56.05it/s]  /home/raph/.local/lib/python2.7/site-packages/scipy/optimize/minpack.py:787: OptimizeWarning: Covariance of the parameters could not be estimated\n",
      "  category=OptimizeWarning)\n",
      "  4%|▍         | 4269/107848 [03:02<1:54:46, 15.04it/s]/home/raph/.local/lib/python2.7/site-packages/scipy/optimize/minpack.py:787: OptimizeWarning: Covariance of the parameters could not be estimated\n",
      "  category=OptimizeWarning)\n",
      "  5%|▍         | 5183/107848 [03:41<29:15, 58.48it/s]  /home/raph/.local/lib/python2.7/site-packages/scipy/optimize/minpack.py:787: OptimizeWarning: Covariance of the parameters could not be estimated\n",
      "  category=OptimizeWarning)\n",
      "  5%|▌         | 5785/107848 [04:08<1:00:38, 28.05it/s]/home/raph/.local/lib/python2.7/site-packages/scipy/optimize/minpack.py:787: OptimizeWarning: Covariance of the parameters could not be estimated\n",
      "  category=OptimizeWarning)\n",
      "100%|██████████| 107848/107848 [1:57:11<00:00, 15.34it/s] \n"
     ]
    }
   ],
   "source": [
    "\n",
    "def async_fit(fn):\n",
    "    tslc = slice(3000,4000)\n",
    "    with open(os.path.join(path,fn), 'rb') as fp:\n",
    "        ret = pickle.load(fp)\n",
    "    del fp\n",
    "    return fit_curve(ret, tslc), fn\n",
    "pool=multiprocessing.Pool(processes=4)\n",
    "\n",
    "for ret,fn in tqdm(pool.imap_unordered(async_fit,datafiles,chunksize=50), total=len(datafiles)):\n",
    "    \n",
    "        (params, cov, err, yhat) = ret\n",
    "        del yhat\n",
    "        df.loc[fn, 'err'] = err\n",
    "        df.loc[fn, 'cov'] = [cov]\n",
    "        df.loc[fn, ['a','b','c','e']] = params\n"
   ]
  },
  {
   "cell_type": "code",
   "execution_count": 18,
   "metadata": {
    "scrolled": false
   },
   "outputs": [],
   "source": [
    "pool.terminate()\n",
    "pool.close()"
   ]
  },
  {
   "cell_type": "code",
   "execution_count": 33,
   "metadata": {},
   "outputs": [],
   "source": [
    "df = df.dropna()\n",
    "df.to_pickle('sin_fit_results_df2_s0_f.pkl')"
   ]
  },
  {
   "cell_type": "code",
   "execution_count": 25,
   "metadata": {},
   "outputs": [
    {
     "data": {
      "text/plain": [
       "102520"
      ]
     },
     "execution_count": 25,
     "metadata": {},
     "output_type": "execute_result"
    }
   ],
   "source": [
    "\n",
    "len(df)"
   ]
  },
  {
   "cell_type": "code",
   "execution_count": 26,
   "metadata": {},
   "outputs": [
    {
     "data": {
      "text/plain": [
       "True     96879\n",
       "False     5641\n",
       "dtype: int64"
      ]
     },
     "execution_count": 26,
     "metadata": {},
     "output_type": "execute_result"
    }
   ],
   "source": [
    "unique_idx = df.duplicated(subset=['a','b','c','e','err'])\n",
    "unique_idx.value_counts()"
   ]
  },
  {
   "cell_type": "code",
   "execution_count": 27,
   "metadata": {},
   "outputs": [],
   "source": [
    "df[~unique_idx].to_pickle('sin_fit_results_df2_s0_f_u.pkl')"
   ]
  },
  {
   "cell_type": "code",
   "execution_count": 28,
   "metadata": {},
   "outputs": [],
   "source": [
    "grouped = df.groupby(['a','b','c','e','err'])\n"
   ]
  },
  {
   "cell_type": "code",
   "execution_count": 51,
   "metadata": {},
   "outputs": [
    {
     "name": "stderr",
     "output_type": "stream",
     "text": [
      "100%|██████████| 5641/5641 [1:10:07<00:00,  1.34it/s]\n"
     ]
    }
   ],
   "source": [
    "def pick_isomorphisms(fns):\n",
    "    \n",
    "    uniques = {}\n",
    "    for fn in fns:\n",
    "        with open(os.path.join(path,fn), 'rb') as fp:\n",
    "            ret = pickle.load(fp)\n",
    "        del fp\n",
    "        mm, lr = ret['_metadata']\n",
    "        adj = construct_graph(mm,lr)\n",
    "        G = nx.from_numpy_matrix(adj, create_using=nx.DiGraph)\n",
    "        not_unique = False\n",
    "        for u in uniques.values():\n",
    "            not_unique = nx.algorithms.isomorphism.is_isomorphic(G,u)\n",
    "            if not not_unique:\n",
    "                break\n",
    "        if not not_unique:\n",
    "            uniques[fn] = G\n",
    "    return uniques.keys()\n",
    "pool=multiprocessing.Pool(processes=4)\n",
    "uniques = []\n",
    "pick_isomorphisms(grouped.groups.values()[0])\n",
    "for ret in tqdm(pool.imap_unordered(pick_isomorphisms,grouped.groups.values(),chunksize=50), total=len(grouped.groups)):\n",
    "    uniques.extend(ret)\n",
    "        "
   ]
  },
  {
   "cell_type": "code",
   "execution_count": 52,
   "metadata": {},
   "outputs": [
    {
     "name": "stdout",
     "output_type": "stream",
     "text": [
      "77420\n"
     ]
    }
   ],
   "source": [
    "print(len(uniques))\n",
    "np.save('uniques2_s0_f_u', uniques)"
   ]
  },
  {
   "cell_type": "code",
   "execution_count": null,
   "metadata": {},
   "outputs": [],
   "source": []
  }
 ],
 "metadata": {
  "kernelspec": {
   "display_name": "Python 2",
   "language": "python",
   "name": "python2"
  },
  "language_info": {
   "codemirror_mode": {
    "name": "ipython",
    "version": 2
   },
   "file_extension": ".py",
   "mimetype": "text/x-python",
   "name": "python",
   "nbconvert_exporter": "python",
   "pygments_lexer": "ipython2",
   "version": "2.7.12"
  }
 },
 "nbformat": 4,
 "nbformat_minor": 2
}
